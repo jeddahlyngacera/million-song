{
 "cells": [
  {
   "cell_type": "markdown",
   "metadata": {},
   "source": [
    "# Recommending Collaborations for New and Established Artists"
   ]
  },
  {
   "cell_type": "markdown",
   "metadata": {},
   "source": [
    "## Import packages"
   ]
  },
  {
   "cell_type": "code",
   "execution_count": 1,
   "metadata": {
    "ExecuteTime": {
     "end_time": "2019-11-14T07:21:22.989220Z",
     "start_time": "2019-11-14T07:21:20.884628Z"
    }
   },
   "outputs": [],
   "source": [
    "import numpy as np\n",
    "import pandas as pd\n",
    "import sqlite3 as sql\n",
    "import matplotlib.pyplot as plt\n",
    "%matplotlib inline\n",
    "import seaborn as sns\n",
    "import fim\n",
    "import pickle\n",
    "from surprise import (Reader, Dataset, SVDpp, SVD, SlopeOne, NMF,\n",
    "                     NormalPredictor, KNNBaseline, KNNBasic, KNNWithMeans,\n",
    "                     KNNWithMeans, KNNWithZScore, BaselineOnly, CoClustering)\n",
    "from surprise.model_selection.validation import cross_validate\n",
    "from surprise.model_selection import train_test_split\n",
    "from surprise.accuracy import rmse\n",
    "from collections import Counter"
   ]
  },
  {
   "cell_type": "markdown",
   "metadata": {},
   "source": [
    "##  Load the Echo Nest Taste Profile Subset"
   ]
  },
  {
   "cell_type": "code",
   "execution_count": 2,
   "metadata": {
    "ExecuteTime": {
     "end_time": "2019-11-14T07:21:58.689556Z",
     "start_time": "2019-11-14T07:21:22.992009Z"
    }
   },
   "outputs": [],
   "source": [
    "triplets = pd.read_csv('/mnt/data/public/millionsong/taste/train_triplets.txt'\n",
    "                       , sep='\\t', names=['user', 'song_id', 'play_count'])"
   ]
  },
  {
   "cell_type": "code",
   "execution_count": 3,
   "metadata": {
    "ExecuteTime": {
     "end_time": "2019-11-14T07:21:58.699120Z",
     "start_time": "2019-11-14T07:21:58.692431Z"
    }
   },
   "outputs": [
    {
     "data": {
      "text/plain": [
       "(48373586, 3)"
      ]
     },
     "execution_count": 3,
     "metadata": {},
     "output_type": "execute_result"
    }
   ],
   "source": [
    "triplets.shape"
   ]
  },
  {
   "cell_type": "markdown",
   "metadata": {},
   "source": [
    "### Filter to songs that are played more than once by user"
   ]
  },
  {
   "cell_type": "code",
   "execution_count": 4,
   "metadata": {
    "ExecuteTime": {
     "end_time": "2019-11-14T07:22:01.349772Z",
     "start_time": "2019-11-14T07:21:58.701255Z"
    }
   },
   "outputs": [],
   "source": [
    "triplets = triplets[triplets['play_count']>1].reset_index(drop=True)"
   ]
  },
  {
   "cell_type": "code",
   "execution_count": 5,
   "metadata": {
    "ExecuteTime": {
     "end_time": "2019-11-14T07:22:01.355967Z",
     "start_time": "2019-11-14T07:22:01.351856Z"
    }
   },
   "outputs": [
    {
     "data": {
      "text/plain": [
       "(19617620, 3)"
      ]
     },
     "execution_count": 5,
     "metadata": {},
     "output_type": "execute_result"
    }
   ],
   "source": [
    "triplets.shape"
   ]
  },
  {
   "cell_type": "code",
   "execution_count": 6,
   "metadata": {
    "ExecuteTime": {
     "end_time": "2019-11-14T07:22:01.369278Z",
     "start_time": "2019-11-14T07:22:01.358016Z"
    }
   },
   "outputs": [
    {
     "data": {
      "text/html": [
       "<div>\n",
       "<style scoped>\n",
       "    .dataframe tbody tr th:only-of-type {\n",
       "        vertical-align: middle;\n",
       "    }\n",
       "\n",
       "    .dataframe tbody tr th {\n",
       "        vertical-align: top;\n",
       "    }\n",
       "\n",
       "    .dataframe thead th {\n",
       "        text-align: right;\n",
       "    }\n",
       "</style>\n",
       "<table border=\"1\" class=\"dataframe\">\n",
       "  <thead>\n",
       "    <tr style=\"text-align: right;\">\n",
       "      <th></th>\n",
       "      <th>user</th>\n",
       "      <th>song_id</th>\n",
       "      <th>play_count</th>\n",
       "    </tr>\n",
       "  </thead>\n",
       "  <tbody>\n",
       "    <tr>\n",
       "      <td>0</td>\n",
       "      <td>b80344d063b5ccb3212f76538f3d9e43d87dca9e</td>\n",
       "      <td>SOBBMDR12A8C13253B</td>\n",
       "      <td>2</td>\n",
       "    </tr>\n",
       "  </tbody>\n",
       "</table>\n",
       "</div>"
      ],
      "text/plain": [
       "                                       user             song_id  play_count\n",
       "0  b80344d063b5ccb3212f76538f3d9e43d87dca9e  SOBBMDR12A8C13253B           2"
      ]
     },
     "execution_count": 6,
     "metadata": {},
     "output_type": "execute_result"
    }
   ],
   "source": [
    "triplets.head(1)"
   ]
  },
  {
   "cell_type": "markdown",
   "metadata": {},
   "source": [
    "## Load supplementary files"
   ]
  },
  {
   "cell_type": "code",
   "execution_count": 7,
   "metadata": {
    "ExecuteTime": {
     "end_time": "2019-11-14T07:22:01.384309Z",
     "start_time": "2019-11-14T07:22:01.372250Z"
    }
   },
   "outputs": [],
   "source": [
    "addtnl_dir = '/mnt/data/public/millionsong/AdditionalFiles/'\n",
    "conn_art_sim = sql.connect(addtnl_dir + 'artist_similarity.db')\n",
    "conn_art_trm = sql.connect(addtnl_dir + 'artist_term.db')\n",
    "conn_tr_meta = sql.connect(addtnl_dir + 'track_metadata.db')"
   ]
  },
  {
   "cell_type": "markdown",
   "metadata": {},
   "source": [
    "### Load metadata to dataframe"
   ]
  },
  {
   "cell_type": "code",
   "execution_count": 8,
   "metadata": {
    "ExecuteTime": {
     "end_time": "2019-11-14T07:22:06.760251Z",
     "start_time": "2019-11-14T07:22:01.386864Z"
    }
   },
   "outputs": [],
   "source": [
    "df_meta = pd.read_sql(\"SELECT * FROM songs\", conn_tr_meta)"
   ]
  },
  {
   "cell_type": "code",
   "execution_count": 9,
   "metadata": {
    "ExecuteTime": {
     "end_time": "2019-11-14T07:22:06.766034Z",
     "start_time": "2019-11-14T07:22:06.762109Z"
    }
   },
   "outputs": [
    {
     "data": {
      "text/plain": [
       "(1000000, 11)"
      ]
     },
     "execution_count": 9,
     "metadata": {},
     "output_type": "execute_result"
    }
   ],
   "source": [
    "df_meta.shape"
   ]
  },
  {
   "cell_type": "code",
   "execution_count": 10,
   "metadata": {
    "ExecuteTime": {
     "end_time": "2019-11-14T07:22:06.780459Z",
     "start_time": "2019-11-14T07:22:06.767756Z"
    }
   },
   "outputs": [
    {
     "data": {
      "text/html": [
       "<div>\n",
       "<style scoped>\n",
       "    .dataframe tbody tr th:only-of-type {\n",
       "        vertical-align: middle;\n",
       "    }\n",
       "\n",
       "    .dataframe tbody tr th {\n",
       "        vertical-align: top;\n",
       "    }\n",
       "\n",
       "    .dataframe thead th {\n",
       "        text-align: right;\n",
       "    }\n",
       "</style>\n",
       "<table border=\"1\" class=\"dataframe\">\n",
       "  <thead>\n",
       "    <tr style=\"text-align: right;\">\n",
       "      <th></th>\n",
       "      <th>track_id</th>\n",
       "      <th>title</th>\n",
       "      <th>song_id</th>\n",
       "      <th>release</th>\n",
       "      <th>artist_id</th>\n",
       "      <th>artist_mbid</th>\n",
       "      <th>artist_name</th>\n",
       "      <th>duration</th>\n",
       "      <th>artist_familiarity</th>\n",
       "      <th>artist_hotttnesss</th>\n",
       "      <th>year</th>\n",
       "    </tr>\n",
       "  </thead>\n",
       "  <tbody>\n",
       "    <tr>\n",
       "      <td>0</td>\n",
       "      <td>TRMMMYQ128F932D901</td>\n",
       "      <td>Silent Night</td>\n",
       "      <td>SOQMMHC12AB0180CB8</td>\n",
       "      <td>Monster Ballads X-Mas</td>\n",
       "      <td>ARYZTJS1187B98C555</td>\n",
       "      <td>357ff05d-848a-44cf-b608-cb34b5701ae5</td>\n",
       "      <td>Faster Pussy cat</td>\n",
       "      <td>252.05506</td>\n",
       "      <td>0.649822</td>\n",
       "      <td>0.394032</td>\n",
       "      <td>2003</td>\n",
       "    </tr>\n",
       "  </tbody>\n",
       "</table>\n",
       "</div>"
      ],
      "text/plain": [
       "             track_id         title             song_id  \\\n",
       "0  TRMMMYQ128F932D901  Silent Night  SOQMMHC12AB0180CB8   \n",
       "\n",
       "                 release           artist_id  \\\n",
       "0  Monster Ballads X-Mas  ARYZTJS1187B98C555   \n",
       "\n",
       "                            artist_mbid       artist_name   duration  \\\n",
       "0  357ff05d-848a-44cf-b608-cb34b5701ae5  Faster Pussy cat  252.05506   \n",
       "\n",
       "   artist_familiarity  artist_hotttnesss  year  \n",
       "0            0.649822           0.394032  2003  "
      ]
     },
     "execution_count": 10,
     "metadata": {},
     "output_type": "execute_result"
    }
   ],
   "source": [
    "df_meta.head(1)"
   ]
  },
  {
   "cell_type": "markdown",
   "metadata": {},
   "source": [
    "### Load genre by artist to dataframe"
   ]
  },
  {
   "cell_type": "code",
   "execution_count": 11,
   "metadata": {
    "ExecuteTime": {
     "end_time": "2019-11-14T07:22:07.672266Z",
     "start_time": "2019-11-14T07:22:06.782345Z"
    }
   },
   "outputs": [],
   "source": [
    "df_genre = pd.read_sql(\"SELECT * FROM artist_mbtag\", conn_art_trm)"
   ]
  },
  {
   "cell_type": "code",
   "execution_count": 12,
   "metadata": {
    "ExecuteTime": {
     "end_time": "2019-11-14T07:22:07.679745Z",
     "start_time": "2019-11-14T07:22:07.674834Z"
    }
   },
   "outputs": [
    {
     "data": {
      "text/plain": [
       "(24777, 2)"
      ]
     },
     "execution_count": 12,
     "metadata": {},
     "output_type": "execute_result"
    }
   ],
   "source": [
    "df_genre.shape"
   ]
  },
  {
   "cell_type": "code",
   "execution_count": 13,
   "metadata": {
    "ExecuteTime": {
     "end_time": "2019-11-14T07:22:07.690330Z",
     "start_time": "2019-11-14T07:22:07.681591Z"
    }
   },
   "outputs": [
    {
     "data": {
      "text/html": [
       "<div>\n",
       "<style scoped>\n",
       "    .dataframe tbody tr th:only-of-type {\n",
       "        vertical-align: middle;\n",
       "    }\n",
       "\n",
       "    .dataframe tbody tr th {\n",
       "        vertical-align: top;\n",
       "    }\n",
       "\n",
       "    .dataframe thead th {\n",
       "        text-align: right;\n",
       "    }\n",
       "</style>\n",
       "<table border=\"1\" class=\"dataframe\">\n",
       "  <thead>\n",
       "    <tr style=\"text-align: right;\">\n",
       "      <th></th>\n",
       "      <th>artist_id</th>\n",
       "      <th>mbtag</th>\n",
       "    </tr>\n",
       "  </thead>\n",
       "  <tbody>\n",
       "    <tr>\n",
       "      <td>0</td>\n",
       "      <td>AR002UA1187B9A637D</td>\n",
       "      <td>uk</td>\n",
       "    </tr>\n",
       "  </tbody>\n",
       "</table>\n",
       "</div>"
      ],
      "text/plain": [
       "            artist_id mbtag\n",
       "0  AR002UA1187B9A637D    uk"
      ]
     },
     "execution_count": 13,
     "metadata": {},
     "output_type": "execute_result"
    }
   ],
   "source": [
    "df_genre.head(1)"
   ]
  },
  {
   "cell_type": "markdown",
   "metadata": {},
   "source": [
    "### EDA on genres"
   ]
  },
  {
   "cell_type": "code",
   "execution_count": 14,
   "metadata": {
    "ExecuteTime": {
     "end_time": "2019-11-14T07:22:07.708693Z",
     "start_time": "2019-11-14T07:22:07.692044Z"
    }
   },
   "outputs": [],
   "source": [
    "df_genre20 = df_genre.mbtag.value_counts()[:20].reset_index()"
   ]
  },
  {
   "cell_type": "code",
   "execution_count": 15,
   "metadata": {
    "ExecuteTime": {
     "end_time": "2019-11-14T07:22:08.348236Z",
     "start_time": "2019-11-14T07:22:07.710903Z"
    },
    "scrolled": false
   },
   "outputs": [
    {
     "data": {
      "image/png": "[encoded data removed]",
      "text/plain": [
       "<Figure size 1800x1200 with 1 Axes>"
      ]
     },
     "metadata": {
      "needs_background": "light"
     },
     "output_type": "display_data"
    }
   ],
   "source": [
    "fig, ax = plt.subplots(dpi=300)\n",
    "ax = sns.barplot(x=df_genre20.mbtag, y=df_genre20['index'], \n",
    "                 palette='Greens_d')\n",
    "ax.set_xlabel('count')\n",
    "ax.set_ylabel('')\n",
    "fig.suptitle('Top 20 Genres with the Most Number of Artists', fontsize=15)\n",
    "fig;"
   ]
  },
  {
   "cell_type": "markdown",
   "metadata": {},
   "source": [
    "### 4 out of the top 20 is rock genre:"
   ]
  },
  {
   "cell_type": "code",
   "execution_count": 16,
   "metadata": {
    "ExecuteTime": {
     "end_time": "2019-11-14T07:22:08.358911Z",
     "start_time": "2019-11-14T07:22:08.350251Z"
    }
   },
   "outputs": [
    {
     "data": {
      "text/plain": [
       "['classic pop and rock', 'rock and indie', 'rock', 'alternative rock']"
      ]
     },
     "execution_count": 16,
     "metadata": {},
     "output_type": "execute_result"
    }
   ],
   "source": [
    "df_genre20[df_genre20['index'].str.contains('rock')]['index'].tolist()"
   ]
  },
  {
   "cell_type": "markdown",
   "metadata": {},
   "source": [
    "### Filter to rock artists only (for simplicity, filtered out duplicates)"
   ]
  },
  {
   "cell_type": "code",
   "execution_count": 17,
   "metadata": {
    "ExecuteTime": {
     "end_time": "2019-11-14T07:22:08.387333Z",
     "start_time": "2019-11-14T07:22:08.361463Z"
    }
   },
   "outputs": [],
   "source": [
    "df_rock_genre = df_genre[df_genre.mbtag.str.contains('rock')\n",
    "                        ].drop_duplicates('artist_id').reset_index(drop=True)"
   ]
  },
  {
   "cell_type": "code",
   "execution_count": 18,
   "metadata": {
    "ExecuteTime": {
     "end_time": "2019-11-14T07:22:08.393867Z",
     "start_time": "2019-11-14T07:22:08.389603Z"
    }
   },
   "outputs": [
    {
     "data": {
      "text/plain": [
       "(2772, 2)"
      ]
     },
     "execution_count": 18,
     "metadata": {},
     "output_type": "execute_result"
    }
   ],
   "source": [
    "df_rock_genre.shape"
   ]
  },
  {
   "cell_type": "code",
   "execution_count": 19,
   "metadata": {
    "ExecuteTime": {
     "end_time": "2019-11-14T07:22:08.405543Z",
     "start_time": "2019-11-14T07:22:08.398050Z"
    }
   },
   "outputs": [
    {
     "data": {
      "text/html": [
       "<div>\n",
       "<style scoped>\n",
       "    .dataframe tbody tr th:only-of-type {\n",
       "        vertical-align: middle;\n",
       "    }\n",
       "\n",
       "    .dataframe tbody tr th {\n",
       "        vertical-align: top;\n",
       "    }\n",
       "\n",
       "    .dataframe thead th {\n",
       "        text-align: right;\n",
       "    }\n",
       "</style>\n",
       "<table border=\"1\" class=\"dataframe\">\n",
       "  <thead>\n",
       "    <tr style=\"text-align: right;\">\n",
       "      <th></th>\n",
       "      <th>artist_id</th>\n",
       "      <th>mbtag</th>\n",
       "    </tr>\n",
       "  </thead>\n",
       "  <tbody>\n",
       "    <tr>\n",
       "      <td>0</td>\n",
       "      <td>AR002UA1187B9A637D</td>\n",
       "      <td>rock</td>\n",
       "    </tr>\n",
       "  </tbody>\n",
       "</table>\n",
       "</div>"
      ],
      "text/plain": [
       "            artist_id mbtag\n",
       "0  AR002UA1187B9A637D  rock"
      ]
     },
     "execution_count": 19,
     "metadata": {},
     "output_type": "execute_result"
    }
   ],
   "source": [
    "df_rock_genre.head(1)"
   ]
  },
  {
   "cell_type": "code",
   "execution_count": 20,
   "metadata": {
    "ExecuteTime": {
     "end_time": "2019-11-14T07:22:08.413557Z",
     "start_time": "2019-11-14T07:22:08.407974Z"
    }
   },
   "outputs": [
    {
     "name": "stdout",
     "output_type": "stream",
     "text": [
      "99 kinds of rock genre\n"
     ]
    }
   ],
   "source": [
    "print(df_rock_genre.mbtag.nunique(), 'kinds of rock genre')"
   ]
  },
  {
   "cell_type": "code",
   "execution_count": 21,
   "metadata": {
    "ExecuteTime": {
     "end_time": "2019-11-14T07:22:08.853446Z",
     "start_time": "2019-11-14T07:22:08.415937Z"
    }
   },
   "outputs": [
    {
     "data": {
      "image/png": "[encoded data removed]",
      "text/plain": [
       "<Figure size 1500x1000 with 1 Axes>"
      ]
     },
     "metadata": {
      "needs_background": "light"
     },
     "output_type": "display_data"
    }
   ],
   "source": [
    "df_rock_genre_counts = df_rock_genre.mbtag.value_counts()[:10].reset_index()\n",
    "\n",
    "fig, ax = plt.subplots(dpi=250)\n",
    "ax = sns.barplot(x=df_rock_genre_counts.mbtag, \n",
    "                 y=df_rock_genre_counts['index'], palette='Greens_d')\n",
    "ax.set_xlabel('count')\n",
    "ax.set_ylabel('')\n",
    "fig.suptitle('Top 10 Rock Genres with the Most Number of Artists', \n",
    "             fontsize=12)\n",
    "fig;"
   ]
  },
  {
   "cell_type": "markdown",
   "metadata": {},
   "source": [
    "### Join triplets with metadata and rock data to filter songs by rock artists"
   ]
  },
  {
   "cell_type": "code",
   "execution_count": 22,
   "metadata": {
    "ExecuteTime": {
     "end_time": "2019-11-14T07:22:22.929067Z",
     "start_time": "2019-11-14T07:22:08.855724Z"
    }
   },
   "outputs": [],
   "source": [
    "df_rock_songs = triplets.merge(df_meta.merge(df_rock_genre))"
   ]
  },
  {
   "cell_type": "code",
   "execution_count": 23,
   "metadata": {
    "ExecuteTime": {
     "end_time": "2019-11-14T07:22:22.935566Z",
     "start_time": "2019-11-14T07:22:22.931255Z"
    }
   },
   "outputs": [
    {
     "data": {
      "text/plain": [
       "(7295277, 14)"
      ]
     },
     "execution_count": 23,
     "metadata": {},
     "output_type": "execute_result"
    }
   ],
   "source": [
    "df_rock_songs.shape"
   ]
  },
  {
   "cell_type": "code",
   "execution_count": 24,
   "metadata": {
    "ExecuteTime": {
     "end_time": "2019-11-14T07:22:22.952797Z",
     "start_time": "2019-11-14T07:22:22.937296Z"
    }
   },
   "outputs": [
    {
     "data": {
      "text/html": [
       "<div>\n",
       "<style scoped>\n",
       "    .dataframe tbody tr th:only-of-type {\n",
       "        vertical-align: middle;\n",
       "    }\n",
       "\n",
       "    .dataframe tbody tr th {\n",
       "        vertical-align: top;\n",
       "    }\n",
       "\n",
       "    .dataframe thead th {\n",
       "        text-align: right;\n",
       "    }\n",
       "</style>\n",
       "<table border=\"1\" class=\"dataframe\">\n",
       "  <thead>\n",
       "    <tr style=\"text-align: right;\">\n",
       "      <th></th>\n",
       "      <th>user</th>\n",
       "      <th>song_id</th>\n",
       "      <th>play_count</th>\n",
       "      <th>track_id</th>\n",
       "      <th>title</th>\n",
       "      <th>release</th>\n",
       "      <th>artist_id</th>\n",
       "      <th>artist_mbid</th>\n",
       "      <th>artist_name</th>\n",
       "      <th>duration</th>\n",
       "      <th>artist_familiarity</th>\n",
       "      <th>artist_hotttnesss</th>\n",
       "      <th>year</th>\n",
       "      <th>mbtag</th>\n",
       "    </tr>\n",
       "  </thead>\n",
       "  <tbody>\n",
       "    <tr>\n",
       "      <td>0</td>\n",
       "      <td>b80344d063b5ccb3212f76538f3d9e43d87dca9e</td>\n",
       "      <td>SODDNQT12A6D4F5F7E</td>\n",
       "      <td>5</td>\n",
       "      <td>TRPTWGR128F1452734</td>\n",
       "      <td>Apuesta Por El Rock 'N' Roll</td>\n",
       "      <td>Antología Audiovisual</td>\n",
       "      <td>AR3SPD91187B9B63E3</td>\n",
       "      <td>4bb712d6-8be9-4c09-810a-eb3bed2be345</td>\n",
       "      <td>Héroes del Silencio</td>\n",
       "      <td>231.36608</td>\n",
       "      <td>0.672904</td>\n",
       "      <td>0.524063</td>\n",
       "      <td>2007</td>\n",
       "      <td>rock</td>\n",
       "    </tr>\n",
       "  </tbody>\n",
       "</table>\n",
       "</div>"
      ],
      "text/plain": [
       "                                       user             song_id  play_count  \\\n",
       "0  b80344d063b5ccb3212f76538f3d9e43d87dca9e  SODDNQT12A6D4F5F7E           5   \n",
       "\n",
       "             track_id                         title                release  \\\n",
       "0  TRPTWGR128F1452734  Apuesta Por El Rock 'N' Roll  Antología Audiovisual   \n",
       "\n",
       "            artist_id                           artist_mbid  \\\n",
       "0  AR3SPD91187B9B63E3  4bb712d6-8be9-4c09-810a-eb3bed2be345   \n",
       "\n",
       "           artist_name   duration  artist_familiarity  artist_hotttnesss  \\\n",
       "0  Héroes del Silencio  231.36608            0.672904           0.524063   \n",
       "\n",
       "   year mbtag  \n",
       "0  2007  rock  "
      ]
     },
     "execution_count": 24,
     "metadata": {},
     "output_type": "execute_result"
    }
   ],
   "source": [
    "df_rock_songs.head(1)"
   ]
  },
  {
   "cell_type": "markdown",
   "metadata": {},
   "source": [
    "### Convert triplets to a database (list of transactions)"
   ]
  },
  {
   "cell_type": "code",
   "execution_count": 25,
   "metadata": {
    "ExecuteTime": {
     "end_time": "2019-11-14T07:23:45.086734Z",
     "start_time": "2019-11-14T07:22:22.955090Z"
    }
   },
   "outputs": [],
   "source": [
    "db = df_rock_songs[['user', 'artist_id']].groupby('user'\n",
    "                                                 )['artist_id'].apply(set)"
   ]
  },
  {
   "cell_type": "code",
   "execution_count": 26,
   "metadata": {
    "ExecuteTime": {
     "end_time": "2019-11-14T07:23:45.096183Z",
     "start_time": "2019-11-14T07:23:45.089432Z"
    }
   },
   "outputs": [
    {
     "name": "stdout",
     "output_type": "stream",
     "text": [
      "Total of 839034 transactions\n"
     ]
    }
   ],
   "source": [
    "print('Total of', len(db), 'transactions')"
   ]
  },
  {
   "cell_type": "markdown",
   "metadata": {},
   "source": [
    "## Frequent Itemset Mining (pyFIM FP-Growth)"
   ]
  },
  {
   "cell_type": "code",
   "execution_count": 27,
   "metadata": {
    "ExecuteTime": {
     "end_time": "2019-11-14T07:24:05.281580Z",
     "start_time": "2019-11-14T07:23:45.098273Z"
    }
   },
   "outputs": [],
   "source": [
    "fim_assoc_rules = sorted(fim.fpgrowth(db, target='r', supp=0.1, conf=0.1, \n",
    "                                    zmin=5, report='l'), key=lambda x: -x[2])"
   ]
  },
  {
   "cell_type": "code",
   "execution_count": 28,
   "metadata": {
    "ExecuteTime": {
     "end_time": "2019-11-14T07:24:05.288304Z",
     "start_time": "2019-11-14T07:24:05.283867Z"
    }
   },
   "outputs": [
    {
     "name": "stdout",
     "output_type": "stream",
     "text": [
      "2294712 association rules\n"
     ]
    }
   ],
   "source": [
    "print(len(fim_assoc_rules), 'association rules')"
   ]
  },
  {
   "cell_type": "code",
   "execution_count": 29,
   "metadata": {
    "ExecuteTime": {
     "end_time": "2019-11-14T07:24:07.849617Z",
     "start_time": "2019-11-14T07:24:05.290164Z"
    }
   },
   "outputs": [],
   "source": [
    "fim_rel_sup = sorted(fim.fpgrowth(db, supp=0.1, conf=0.1, zmin=5, report='S'),\n",
    "                             key=lambda x: -x[1])"
   ]
  },
  {
   "cell_type": "code",
   "execution_count": 30,
   "metadata": {
    "ExecuteTime": {
     "end_time": "2019-11-14T07:24:07.857127Z",
     "start_time": "2019-11-14T07:24:07.851832Z"
    }
   },
   "outputs": [
    {
     "data": {
      "text/plain": [
       "[(('ARML3X41187FB35F2E',\n",
       "   'ARICCZI1187B9AEBB3',\n",
       "   'AR73S4G1187B9A03C2',\n",
       "   'ARF2EHS1187B994F4E',\n",
       "   'ARJ7KF01187B98D717'),\n",
       "  0.3896147235988053),\n",
       " (('ARQUMH41187B9AF699',\n",
       "   'ARICCZI1187B9AEBB3',\n",
       "   'AR73S4G1187B9A03C2',\n",
       "   'ARF2EHS1187B994F4E',\n",
       "   'ARJ7KF01187B98D717'),\n",
       "  0.38568162911157355)]"
      ]
     },
     "execution_count": 30,
     "metadata": {},
     "output_type": "execute_result"
    }
   ],
   "source": [
    "fim_rel_sup[:2]"
   ]
  },
  {
   "cell_type": "markdown",
   "metadata": {},
   "source": [
    "### Create dataframe to match artist_id with artist_names (dropped duplicates)"
   ]
  },
  {
   "cell_type": "code",
   "execution_count": 31,
   "metadata": {
    "ExecuteTime": {
     "end_time": "2019-11-14T07:24:08.669648Z",
     "start_time": "2019-11-14T07:24:07.858939Z"
    }
   },
   "outputs": [],
   "source": [
    "df_artist_names = df_rock_songs[['artist_id', 'artist_name']\n",
    "                        ].drop_duplicates('artist_id').reset_index(drop=True)"
   ]
  },
  {
   "cell_type": "code",
   "execution_count": 32,
   "metadata": {
    "ExecuteTime": {
     "end_time": "2019-11-14T07:24:08.676400Z",
     "start_time": "2019-11-14T07:24:08.671731Z"
    }
   },
   "outputs": [
    {
     "data": {
      "text/plain": [
       "(2588, 2)"
      ]
     },
     "execution_count": 32,
     "metadata": {},
     "output_type": "execute_result"
    }
   ],
   "source": [
    "df_artist_names.shape"
   ]
  },
  {
   "cell_type": "code",
   "execution_count": 33,
   "metadata": {
    "ExecuteTime": {
     "end_time": "2019-11-14T07:24:08.686882Z",
     "start_time": "2019-11-14T07:24:08.678342Z"
    }
   },
   "outputs": [
    {
     "data": {
      "text/html": [
       "<div>\n",
       "<style scoped>\n",
       "    .dataframe tbody tr th:only-of-type {\n",
       "        vertical-align: middle;\n",
       "    }\n",
       "\n",
       "    .dataframe tbody tr th {\n",
       "        vertical-align: top;\n",
       "    }\n",
       "\n",
       "    .dataframe thead th {\n",
       "        text-align: right;\n",
       "    }\n",
       "</style>\n",
       "<table border=\"1\" class=\"dataframe\">\n",
       "  <thead>\n",
       "    <tr style=\"text-align: right;\">\n",
       "      <th></th>\n",
       "      <th>artist_id</th>\n",
       "      <th>artist_name</th>\n",
       "    </tr>\n",
       "  </thead>\n",
       "  <tbody>\n",
       "    <tr>\n",
       "      <td>0</td>\n",
       "      <td>AR3SPD91187B9B63E3</td>\n",
       "      <td>Héroes del Silencio</td>\n",
       "    </tr>\n",
       "  </tbody>\n",
       "</table>\n",
       "</div>"
      ],
      "text/plain": [
       "            artist_id          artist_name\n",
       "0  AR3SPD91187B9B63E3  Héroes del Silencio"
      ]
     },
     "execution_count": 33,
     "metadata": {},
     "output_type": "execute_result"
    }
   ],
   "source": [
    "df_artist_names.head(1)"
   ]
  },
  {
   "cell_type": "markdown",
   "metadata": {},
   "source": [
    "### Match frequent itemsets with artist_names"
   ]
  },
  {
   "cell_type": "code",
   "execution_count": 34,
   "metadata": {
    "ExecuteTime": {
     "end_time": "2019-11-14T07:24:08.693141Z",
     "start_time": "2019-11-14T07:24:08.688755Z"
    }
   },
   "outputs": [],
   "source": [
    "df_fim_rel_sup = pd.DataFrame(fim_rel_sup, columns=['artist_ids', \n",
    "                                                    'relative_support'])"
   ]
  },
  {
   "cell_type": "code",
   "execution_count": 35,
   "metadata": {
    "ExecuteTime": {
     "end_time": "2019-11-14T07:24:09.393389Z",
     "start_time": "2019-11-14T07:24:08.695074Z"
    }
   },
   "outputs": [],
   "source": [
    "df_fim_rel_sup['artist_names'] = df_fim_rel_sup.artist_ids.apply(\n",
    "                                            lambda x: tuple(df_artist_names[\n",
    "                                            df_artist_names.artist_id.isin(x)\n",
    "                                            ]['artist_name']))"
   ]
  },
  {
   "cell_type": "markdown",
   "metadata": {},
   "source": [
    "### Top 10 rock artists - best option for Dream Rock Concert lineup"
   ]
  },
  {
   "cell_type": "code",
   "execution_count": 36,
   "metadata": {
    "ExecuteTime": {
     "end_time": "2019-11-14T07:24:09.402418Z",
     "start_time": "2019-11-14T07:24:09.395714Z"
    }
   },
   "outputs": [],
   "source": [
    "top10 = df_fim_rel_sup.loc[:18, ['artist_ids', 'artist_names']\n",
    "                          ].set_index('artist_ids').to_dict()['artist_names']"
   ]
  },
  {
   "cell_type": "code",
   "execution_count": 37,
   "metadata": {
    "ExecuteTime": {
     "end_time": "2019-11-14T07:24:09.410700Z",
     "start_time": "2019-11-14T07:24:09.404840Z"
    }
   },
   "outputs": [
    {
     "data": {
      "text/plain": [
       "{'3 Doors Down',\n",
       " 'Björk',\n",
       " 'Bon Jovi',\n",
       " 'Coldplay',\n",
       " 'Jason Mraz & Colbie Caillat',\n",
       " 'Kings Of Leon',\n",
       " 'Linkin Park',\n",
       " 'Lonnie Gordon',\n",
       " 'OneRepublic',\n",
       " 'Train'}"
      ]
     },
     "execution_count": 37,
     "metadata": {},
     "output_type": "execute_result"
    }
   ],
   "source": [
    "top10_ids = set(item for subl in list(top10.keys()) for item in subl)\n",
    "top10_names = set(item for subl in list(top10.values()) for item in subl)\n",
    "top10_names"
   ]
  },
  {
   "cell_type": "code",
   "execution_count": 38,
   "metadata": {
    "ExecuteTime": {
     "end_time": "2019-11-14T07:24:09.419765Z",
     "start_time": "2019-11-14T07:24:09.412782Z"
    }
   },
   "outputs": [
    {
     "name": "stdout",
     "output_type": "stream",
     "text": [
      "Range of their relative supports: 0.3896147235988053 - 0.20559357546893214\n"
     ]
    }
   ],
   "source": [
    "print('Range of their relative supports:', \n",
    "          df_fim_rel_sup.loc[:18, 'relative_support'].max(), '-', \n",
    "          df_fim_rel_sup.loc[:18, 'relative_support'].min())"
   ]
  },
  {
   "cell_type": "markdown",
   "metadata": {},
   "source": [
    "### EDA on top 10 artists"
   ]
  },
  {
   "cell_type": "code",
   "execution_count": 39,
   "metadata": {
    "ExecuteTime": {
     "end_time": "2019-11-14T07:24:09.859904Z",
     "start_time": "2019-11-14T07:24:09.422141Z"
    }
   },
   "outputs": [],
   "source": [
    "df_top10 = df_rock_songs[df_rock_songs.artist_id.isin(list(top10_ids))]"
   ]
  },
  {
   "cell_type": "code",
   "execution_count": 40,
   "metadata": {
    "ExecuteTime": {
     "end_time": "2019-11-14T07:24:10.192118Z",
     "start_time": "2019-11-14T07:24:09.861783Z"
    }
   },
   "outputs": [],
   "source": [
    "grp = df_top10.groupby('artist_id')\n",
    "df_top10_stats = grp['user'].count().reset_index().merge(\n",
    "                 grp['play_count'].sum().reset_index()).merge(\n",
    "                 df_top10[df_top10.year>0].groupby('artist_id')['year'\n",
    "                                                ].min().reset_index()).merge(\n",
    "                 grp['year'].max().reset_index(), on='artist_id'\n",
    "                    ).sort_values('user', ascending=False)\n",
    "df_top10_stats['Artist'] = df_top10_stats.artist_id.apply(lambda x: \n",
    "                                df_artist_names[df_artist_names.artist_id==x\n",
    "                                ]['artist_name'].values[0])\n",
    "df_top10_stats.user = df_top10_stats.user/1000\n",
    "df_top10_stats.play_count = df_top10_stats.play_count/1000"
   ]
  },
  {
   "cell_type": "code",
   "execution_count": 41,
   "metadata": {
    "ExecuteTime": {
     "end_time": "2019-11-14T07:24:10.430226Z",
     "start_time": "2019-11-14T07:24:10.194233Z"
    }
   },
   "outputs": [
    {
     "data": {
      "image/png": "[encoded data removed]",
      "text/plain": [
       "<Figure size 900x600 with 1 Axes>"
      ]
     },
     "metadata": {
      "needs_background": "light"
     },
     "output_type": "display_data"
    }
   ],
   "source": [
    "fig, ax = plt.subplots(dpi=150)\n",
    "ax.scatter(x='user', y='play_count', data=df_top10_stats, color='green')\n",
    "top1, top2 = df_top10_stats.loc[6], df_top10_stats.loc[4]\n",
    "ax.text(top1['user']-22, top1['play_count']-30, top1['Artist'], fontsize=9)\n",
    "ax.text(top2['user']-35, top2['play_count']-30, top2['Artist'], fontsize=9)\n",
    "ax.set_xlabel('number of users')\n",
    "ax.set_ylabel('times played')\n",
    "ax.set_title('Top 10 Rock Artists Statistics (in thousands)')\n",
    "fig;"
   ]
  },
  {
   "cell_type": "markdown",
   "metadata": {},
   "source": [
    "### Among the top 10 rock artists,\n",
    "**Coldplay has the `most listeners (184K users)`:**"
   ]
  },
  {
   "cell_type": "code",
   "execution_count": 78,
   "metadata": {
    "ExecuteTime": {
     "end_time": "2019-11-14T09:44:16.201301Z",
     "start_time": "2019-11-14T09:44:16.185590Z"
    }
   },
   "outputs": [],
   "source": [
    "trial = df_top10_stats[['Artist', 'user', 'play_count']]"
   ]
  },
  {
   "cell_type": "code",
   "execution_count": 81,
   "metadata": {
    "ExecuteTime": {
     "end_time": "2019-11-14T09:45:01.651130Z",
     "start_time": "2019-11-14T09:45:01.631061Z"
    }
   },
   "outputs": [
    {
     "data": {
      "text/html": [
       "<div>\n",
       "<style scoped>\n",
       "    .dataframe tbody tr th:only-of-type {\n",
       "        vertical-align: middle;\n",
       "    }\n",
       "\n",
       "    .dataframe tbody tr th {\n",
       "        vertical-align: top;\n",
       "    }\n",
       "\n",
       "    .dataframe thead th {\n",
       "        text-align: right;\n",
       "    }\n",
       "</style>\n",
       "<table border=\"1\" class=\"dataframe\">\n",
       "  <thead>\n",
       "    <tr style=\"text-align: right;\">\n",
       "      <th></th>\n",
       "      <th>Artist</th>\n",
       "      <th>Number of Users</th>\n",
       "      <th>Total Play Count</th>\n",
       "    </tr>\n",
       "  </thead>\n",
       "  <tbody>\n",
       "    <tr>\n",
       "      <td>0</td>\n",
       "      <td>Coldplay</td>\n",
       "      <td>184.553</td>\n",
       "      <td>852.810</td>\n",
       "    </tr>\n",
       "    <tr>\n",
       "      <td>1</td>\n",
       "      <td>Kings Of Leon</td>\n",
       "      <td>149.530</td>\n",
       "      <td>945.125</td>\n",
       "    </tr>\n",
       "    <tr>\n",
       "      <td>2</td>\n",
       "      <td>Train</td>\n",
       "      <td>82.862</td>\n",
       "      <td>449.922</td>\n",
       "    </tr>\n",
       "    <tr>\n",
       "      <td>3</td>\n",
       "      <td>OneRepublic</td>\n",
       "      <td>81.030</td>\n",
       "      <td>457.876</td>\n",
       "    </tr>\n",
       "    <tr>\n",
       "      <td>4</td>\n",
       "      <td>Linkin Park</td>\n",
       "      <td>75.796</td>\n",
       "      <td>400.307</td>\n",
       "    </tr>\n",
       "    <tr>\n",
       "      <td>5</td>\n",
       "      <td>Björk</td>\n",
       "      <td>68.826</td>\n",
       "      <td>672.944</td>\n",
       "    </tr>\n",
       "    <tr>\n",
       "      <td>6</td>\n",
       "      <td>3 Doors Down</td>\n",
       "      <td>48.703</td>\n",
       "      <td>252.894</td>\n",
       "    </tr>\n",
       "    <tr>\n",
       "      <td>7</td>\n",
       "      <td>Jason Mraz &amp; Colbie Caillat</td>\n",
       "      <td>45.230</td>\n",
       "      <td>236.730</td>\n",
       "    </tr>\n",
       "    <tr>\n",
       "      <td>8</td>\n",
       "      <td>Bon Jovi</td>\n",
       "      <td>39.795</td>\n",
       "      <td>198.930</td>\n",
       "    </tr>\n",
       "    <tr>\n",
       "      <td>9</td>\n",
       "      <td>Lonnie Gordon</td>\n",
       "      <td>25.949</td>\n",
       "      <td>217.928</td>\n",
       "    </tr>\n",
       "  </tbody>\n",
       "</table>\n",
       "</div>"
      ],
      "text/plain": [
       "                        Artist  Number of Users  Total Play Count\n",
       "0                     Coldplay          184.553           852.810\n",
       "1                Kings Of Leon          149.530           945.125\n",
       "2                        Train           82.862           449.922\n",
       "3                  OneRepublic           81.030           457.876\n",
       "4                  Linkin Park           75.796           400.307\n",
       "5                        Björk           68.826           672.944\n",
       "6                 3 Doors Down           48.703           252.894\n",
       "7  Jason Mraz & Colbie Caillat           45.230           236.730\n",
       "8                     Bon Jovi           39.795           198.930\n",
       "9                Lonnie Gordon           25.949           217.928"
      ]
     },
     "execution_count": 81,
     "metadata": {},
     "output_type": "execute_result"
    }
   ],
   "source": [
    "trial.reset_index(drop=True)"
   ]
  },
  {
   "cell_type": "code",
   "execution_count": 42,
   "metadata": {
    "ExecuteTime": {
     "end_time": "2019-11-14T07:24:10.441780Z",
     "start_time": "2019-11-14T07:24:10.432242Z"
    }
   },
   "outputs": [
    {
     "data": {
      "text/html": [
       "<div>\n",
       "<style scoped>\n",
       "    .dataframe tbody tr th:only-of-type {\n",
       "        vertical-align: middle;\n",
       "    }\n",
       "\n",
       "    .dataframe tbody tr th {\n",
       "        vertical-align: top;\n",
       "    }\n",
       "\n",
       "    .dataframe thead th {\n",
       "        text-align: right;\n",
       "    }\n",
       "</style>\n",
       "<table border=\"1\" class=\"dataframe\">\n",
       "  <thead>\n",
       "    <tr style=\"text-align: right;\">\n",
       "      <th></th>\n",
       "      <th>artist_id</th>\n",
       "      <th>user</th>\n",
       "      <th>play_count</th>\n",
       "      <th>year_x</th>\n",
       "      <th>year_y</th>\n",
       "      <th>Artist</th>\n",
       "    </tr>\n",
       "  </thead>\n",
       "  <tbody>\n",
       "    <tr>\n",
       "      <td>6</td>\n",
       "      <td>ARJ7KF01187B98D717</td>\n",
       "      <td>184.553</td>\n",
       "      <td>852.81</td>\n",
       "      <td>1998</td>\n",
       "      <td>2009</td>\n",
       "      <td>Coldplay</td>\n",
       "    </tr>\n",
       "  </tbody>\n",
       "</table>\n",
       "</div>"
      ],
      "text/plain": [
       "            artist_id     user  play_count  year_x  year_y    Artist\n",
       "6  ARJ7KF01187B98D717  184.553      852.81    1998    2009  Coldplay"
      ]
     },
     "execution_count": 42,
     "metadata": {},
     "output_type": "execute_result"
    }
   ],
   "source": [
    "df_top10_stats[:1]"
   ]
  },
  {
   "cell_type": "markdown",
   "metadata": {},
   "source": [
    "**Kings Of Leon's songs have been `played the most (945K times)`:**"
   ]
  },
  {
   "cell_type": "code",
   "execution_count": 43,
   "metadata": {
    "ExecuteTime": {
     "end_time": "2019-11-14T07:24:10.454898Z",
     "start_time": "2019-11-14T07:24:10.443805Z"
    }
   },
   "outputs": [
    {
     "data": {
      "text/html": [
       "<div>\n",
       "<style scoped>\n",
       "    .dataframe tbody tr th:only-of-type {\n",
       "        vertical-align: middle;\n",
       "    }\n",
       "\n",
       "    .dataframe tbody tr th {\n",
       "        vertical-align: top;\n",
       "    }\n",
       "\n",
       "    .dataframe thead th {\n",
       "        text-align: right;\n",
       "    }\n",
       "</style>\n",
       "<table border=\"1\" class=\"dataframe\">\n",
       "  <thead>\n",
       "    <tr style=\"text-align: right;\">\n",
       "      <th></th>\n",
       "      <th>artist_id</th>\n",
       "      <th>user</th>\n",
       "      <th>play_count</th>\n",
       "      <th>year_x</th>\n",
       "      <th>year_y</th>\n",
       "      <th>Artist</th>\n",
       "    </tr>\n",
       "  </thead>\n",
       "  <tbody>\n",
       "    <tr>\n",
       "      <td>4</td>\n",
       "      <td>ARF2EHS1187B994F4E</td>\n",
       "      <td>149.53</td>\n",
       "      <td>945.125</td>\n",
       "      <td>2003</td>\n",
       "      <td>2008</td>\n",
       "      <td>Kings Of Leon</td>\n",
       "    </tr>\n",
       "  </tbody>\n",
       "</table>\n",
       "</div>"
      ],
      "text/plain": [
       "            artist_id    user  play_count  year_x  year_y         Artist\n",
       "4  ARF2EHS1187B994F4E  149.53     945.125    2003    2008  Kings Of Leon"
      ]
     },
     "execution_count": 43,
     "metadata": {},
     "output_type": "execute_result"
    }
   ],
   "source": [
    "df_top10_stats.sort_values('play_count', ascending=False)[:1]"
   ]
  },
  {
   "cell_type": "markdown",
   "metadata": {},
   "source": [
    "**Interestingly, Kings of Leon has been in the industry way sooner than Coldplay, but has more songs played and almost as much listeners as them.**"
   ]
  },
  {
   "cell_type": "markdown",
   "metadata": {},
   "source": [
    "### Bottom 5 itemsets:\n",
    "Note: This still has at least 10% relative support."
   ]
  },
  {
   "cell_type": "code",
   "execution_count": 44,
   "metadata": {
    "ExecuteTime": {
     "end_time": "2019-11-14T07:24:10.467578Z",
     "start_time": "2019-11-14T07:24:10.456956Z"
    }
   },
   "outputs": [
    {
     "data": {
      "text/html": [
       "<div>\n",
       "<style scoped>\n",
       "    .dataframe tbody tr th:only-of-type {\n",
       "        vertical-align: middle;\n",
       "    }\n",
       "\n",
       "    .dataframe tbody tr th {\n",
       "        vertical-align: top;\n",
       "    }\n",
       "\n",
       "    .dataframe thead th {\n",
       "        text-align: right;\n",
       "    }\n",
       "</style>\n",
       "<table border=\"1\" class=\"dataframe\">\n",
       "  <thead>\n",
       "    <tr style=\"text-align: right;\">\n",
       "      <th></th>\n",
       "      <th>artist_names</th>\n",
       "      <th>relative_support</th>\n",
       "    </tr>\n",
       "  </thead>\n",
       "  <tbody>\n",
       "    <tr>\n",
       "      <td>766</td>\n",
       "      <td>(OneRepublic, Kings Of Leon, Coldplay, MGMT, S...</td>\n",
       "      <td>0.100234</td>\n",
       "    </tr>\n",
       "    <tr>\n",
       "      <td>767</td>\n",
       "      <td>(OneRepublic, Coldplay, Linkin Park, Bon Jovi,...</td>\n",
       "      <td>0.100115</td>\n",
       "    </tr>\n",
       "    <tr>\n",
       "      <td>768</td>\n",
       "      <td>(Björk, OneRepublic, Coldplay, Jason Mraz &amp; Co...</td>\n",
       "      <td>0.100115</td>\n",
       "    </tr>\n",
       "    <tr>\n",
       "      <td>769</td>\n",
       "      <td>(OneRepublic, Kings Of Leon, Coldplay, Jason M...</td>\n",
       "      <td>0.100115</td>\n",
       "    </tr>\n",
       "    <tr>\n",
       "      <td>770</td>\n",
       "      <td>(OneRepublic, Kings Of Leon, Train, Plain Whit...</td>\n",
       "      <td>0.100115</td>\n",
       "    </tr>\n",
       "  </tbody>\n",
       "</table>\n",
       "</div>"
      ],
      "text/plain": [
       "                                          artist_names  relative_support\n",
       "766  (OneRepublic, Kings Of Leon, Coldplay, MGMT, S...          0.100234\n",
       "767  (OneRepublic, Coldplay, Linkin Park, Bon Jovi,...          0.100115\n",
       "768  (Björk, OneRepublic, Coldplay, Jason Mraz & Co...          0.100115\n",
       "769  (OneRepublic, Kings Of Leon, Coldplay, Jason M...          0.100115\n",
       "770  (OneRepublic, Kings Of Leon, Train, Plain Whit...          0.100115"
      ]
     },
     "execution_count": 44,
     "metadata": {},
     "output_type": "execute_result"
    }
   ],
   "source": [
    "df_fim_rel_sup[['artist_names', 'relative_support']].tail(5)"
   ]
  },
  {
   "cell_type": "code",
   "execution_count": 45,
   "metadata": {
    "ExecuteTime": {
     "end_time": "2019-11-14T07:24:10.473140Z",
     "start_time": "2019-11-14T07:24:10.469473Z"
    }
   },
   "outputs": [],
   "source": [
    "bottom5_names = set(item for sublist in df_fim_rel_sup.tail(5)['artist_names'\n",
    "                                ].tolist() for item in sublist) - top10_names"
   ]
  },
  {
   "cell_type": "markdown",
   "metadata": {},
   "source": [
    "### However, all of these artists are also on top, except from these 5 artists:"
   ]
  },
  {
   "cell_type": "code",
   "execution_count": 46,
   "metadata": {
    "ExecuteTime": {
     "end_time": "2019-11-14T07:24:10.480973Z",
     "start_time": "2019-11-14T07:24:10.475378Z"
    }
   },
   "outputs": [
    {
     "data": {
      "text/plain": [
       "{'MGMT', \"Plain White T's\", 'Radiohead', 'Simon Harris', 'The Killers'}"
      ]
     },
     "execution_count": 46,
     "metadata": {},
     "output_type": "execute_result"
    }
   ],
   "source": [
    "bottom5_names"
   ]
  },
  {
   "cell_type": "markdown",
   "metadata": {},
   "source": [
    "**This means, although not included in the top 10, these 5 artists are the best options to be in the `opening act lineup` in the Dream Rock Concert since they have belonged to itemsets with the most popular artists.**"
   ]
  },
  {
   "cell_type": "markdown",
   "metadata": {},
   "source": [
    "### EDA on bottom 5 artists"
   ]
  },
  {
   "cell_type": "code",
   "execution_count": 47,
   "metadata": {
    "ExecuteTime": {
     "end_time": "2019-11-14T07:24:10.834291Z",
     "start_time": "2019-11-14T07:24:10.482943Z"
    }
   },
   "outputs": [],
   "source": [
    "bottom5_ids = set(df_rock_songs[df_rock_songs.artist_name.isin(\n",
    "                            list(bottom5_names))]['artist_id'])"
   ]
  },
  {
   "cell_type": "code",
   "execution_count": 48,
   "metadata": {
    "ExecuteTime": {
     "end_time": "2019-11-14T07:24:11.156836Z",
     "start_time": "2019-11-14T07:24:10.836556Z"
    }
   },
   "outputs": [],
   "source": [
    "df_bottom5 = df_rock_songs[df_rock_songs.artist_id.isin(bottom5_ids)]"
   ]
  },
  {
   "cell_type": "code",
   "execution_count": 49,
   "metadata": {
    "ExecuteTime": {
     "end_time": "2019-11-14T07:24:11.279041Z",
     "start_time": "2019-11-14T07:24:11.159247Z"
    }
   },
   "outputs": [],
   "source": [
    "grp2 = df_bottom5.groupby('artist_id')\n",
    "df_bottom5_stats = grp2['user'].count().reset_index().merge(\n",
    "                   grp2['play_count'].sum().reset_index()).merge(\n",
    "                   df_bottom5[df_bottom5.year>0].groupby('artist_id')['year'\n",
    "                                                ].min().reset_index()).merge(\n",
    "                   grp2['year'].max().reset_index(), on='artist_id'\n",
    "                      ).sort_values('user', ascending=False)\n",
    "df_bottom5_stats['Artist'] = df_bottom5_stats.artist_id.apply(lambda x: \n",
    "                                df_artist_names[df_artist_names.artist_id==x\n",
    "                                ]['artist_name'].values[0])\n",
    "df_bottom5_stats.user = df_bottom5_stats.user/1000\n",
    "df_bottom5_stats.play_count = df_bottom5_stats.play_count/1000"
   ]
  },
  {
   "cell_type": "code",
   "execution_count": 50,
   "metadata": {
    "ExecuteTime": {
     "end_time": "2019-11-14T07:24:11.291810Z",
     "start_time": "2019-11-14T07:24:11.280994Z"
    }
   },
   "outputs": [
    {
     "data": {
      "text/html": [
       "<div>\n",
       "<style scoped>\n",
       "    .dataframe tbody tr th:only-of-type {\n",
       "        vertical-align: middle;\n",
       "    }\n",
       "\n",
       "    .dataframe tbody tr th {\n",
       "        vertical-align: top;\n",
       "    }\n",
       "\n",
       "    .dataframe thead th {\n",
       "        text-align: right;\n",
       "    }\n",
       "</style>\n",
       "<table border=\"1\" class=\"dataframe\">\n",
       "  <thead>\n",
       "    <tr style=\"text-align: right;\">\n",
       "      <th></th>\n",
       "      <th>artist_id</th>\n",
       "      <th>user</th>\n",
       "      <th>play_count</th>\n",
       "      <th>year_x</th>\n",
       "      <th>year_y</th>\n",
       "      <th>Artist</th>\n",
       "    </tr>\n",
       "  </thead>\n",
       "  <tbody>\n",
       "    <tr>\n",
       "      <td>0</td>\n",
       "      <td>ARH6W4X1187B99274F</td>\n",
       "      <td>85.891</td>\n",
       "      <td>395.793</td>\n",
       "      <td>1992</td>\n",
       "      <td>2009</td>\n",
       "      <td>Radiohead</td>\n",
       "    </tr>\n",
       "    <tr>\n",
       "      <td>2</td>\n",
       "      <td>ARVG4OK1187B9B6BD3</td>\n",
       "      <td>79.452</td>\n",
       "      <td>369.045</td>\n",
       "      <td>2003</td>\n",
       "      <td>2009</td>\n",
       "      <td>The Killers</td>\n",
       "    </tr>\n",
       "    <tr>\n",
       "      <td>1</td>\n",
       "      <td>ARI3Y821187FB3649C</td>\n",
       "      <td>29.488</td>\n",
       "      <td>138.305</td>\n",
       "      <td>2005</td>\n",
       "      <td>2010</td>\n",
       "      <td>MGMT</td>\n",
       "    </tr>\n",
       "    <tr>\n",
       "      <td>4</td>\n",
       "      <td>ARXGKVD1187FB54D8F</td>\n",
       "      <td>17.404</td>\n",
       "      <td>84.429</td>\n",
       "      <td>2002</td>\n",
       "      <td>2010</td>\n",
       "      <td>Plain White T's</td>\n",
       "    </tr>\n",
       "    <tr>\n",
       "      <td>3</td>\n",
       "      <td>ARWR05M1187B9951A2</td>\n",
       "      <td>14.026</td>\n",
       "      <td>66.675</td>\n",
       "      <td>1976</td>\n",
       "      <td>1988</td>\n",
       "      <td>Simon Harris</td>\n",
       "    </tr>\n",
       "  </tbody>\n",
       "</table>\n",
       "</div>"
      ],
      "text/plain": [
       "            artist_id    user  play_count  year_x  year_y           Artist\n",
       "0  ARH6W4X1187B99274F  85.891     395.793    1992    2009        Radiohead\n",
       "2  ARVG4OK1187B9B6BD3  79.452     369.045    2003    2009      The Killers\n",
       "1  ARI3Y821187FB3649C  29.488     138.305    2005    2010             MGMT\n",
       "4  ARXGKVD1187FB54D8F  17.404      84.429    2002    2010  Plain White T's\n",
       "3  ARWR05M1187B9951A2  14.026      66.675    1976    1988     Simon Harris"
      ]
     },
     "execution_count": 50,
     "metadata": {},
     "output_type": "execute_result"
    }
   ],
   "source": [
    "df_bottom5_stats"
   ]
  },
  {
   "cell_type": "code",
   "execution_count": 114,
   "metadata": {
    "ExecuteTime": {
     "end_time": "2019-11-14T11:27:45.729328Z",
     "start_time": "2019-11-14T11:27:45.709337Z"
    }
   },
   "outputs": [
    {
     "data": {
      "text/html": [
       "<div>\n",
       "<style scoped>\n",
       "    .dataframe tbody tr th:only-of-type {\n",
       "        vertical-align: middle;\n",
       "    }\n",
       "\n",
       "    .dataframe tbody tr th {\n",
       "        vertical-align: top;\n",
       "    }\n",
       "\n",
       "    .dataframe thead th {\n",
       "        text-align: right;\n",
       "    }\n",
       "</style>\n",
       "<table border=\"1\" class=\"dataframe\">\n",
       "  <thead>\n",
       "    <tr style=\"text-align: right;\">\n",
       "      <th></th>\n",
       "      <th>Artist</th>\n",
       "      <th>Number of Users</th>\n",
       "      <th>Total Play Count (in thousands)</th>\n",
       "    </tr>\n",
       "  </thead>\n",
       "  <tbody>\n",
       "    <tr>\n",
       "      <td>0</td>\n",
       "      <td>Radiohead</td>\n",
       "      <td>85.891</td>\n",
       "      <td>395.793</td>\n",
       "    </tr>\n",
       "    <tr>\n",
       "      <td>1</td>\n",
       "      <td>The Killers</td>\n",
       "      <td>79.452</td>\n",
       "      <td>369.045</td>\n",
       "    </tr>\n",
       "    <tr>\n",
       "      <td>2</td>\n",
       "      <td>MGMT</td>\n",
       "      <td>29.488</td>\n",
       "      <td>138.305</td>\n",
       "    </tr>\n",
       "    <tr>\n",
       "      <td>3</td>\n",
       "      <td>Plain White T's</td>\n",
       "      <td>17.404</td>\n",
       "      <td>84.429</td>\n",
       "    </tr>\n",
       "    <tr>\n",
       "      <td>4</td>\n",
       "      <td>Simon Harris</td>\n",
       "      <td>14.026</td>\n",
       "      <td>66.675</td>\n",
       "    </tr>\n",
       "  </tbody>\n",
       "</table>\n",
       "</div>"
      ],
      "text/plain": [
       "            Artist  Number of Users  Total Play Count (in thousands)\n",
       "0        Radiohead           85.891                          395.793\n",
       "1      The Killers           79.452                          369.045\n",
       "2             MGMT           29.488                          138.305\n",
       "3  Plain White T's           17.404                           84.429\n",
       "4     Simon Harris           14.026                           66.675"
      ]
     },
     "execution_count": 114,
     "metadata": {},
     "output_type": "execute_result"
    }
   ],
   "source": [
    "trial = df_bottom5_stats[['Artist', 'user', 'play_count']].reset_index(drop=True)\n",
    "trial.reset_index(drop=True)\n",
    "trial.columns = ['Artist', 'Number of Users', 'Total Play Count (in thousands)']\n",
    "trial"
   ]
  },
  {
   "cell_type": "code",
   "execution_count": 51,
   "metadata": {
    "ExecuteTime": {
     "end_time": "2019-11-14T07:24:11.554568Z",
     "start_time": "2019-11-14T07:24:11.295805Z"
    }
   },
   "outputs": [
    {
     "data": {
      "image/png": "[encoded data removed]",
      "text/plain": [
       "<Figure size 900x600 with 1 Axes>"
      ]
     },
     "metadata": {
      "needs_background": "light"
     },
     "output_type": "display_data"
    }
   ],
   "source": [
    "fig, ax = plt.subplots(dpi=150)\n",
    "ax.scatter(x='user', y='play_count', data=df_bottom5_stats, color='green')\n",
    "a, b = df_bottom5_stats.loc[0], df_bottom5_stats.loc[2]\n",
    "c, d = df_bottom5_stats.loc[1], df_bottom5_stats.loc[4]\n",
    "e = df_bottom5_stats.loc[3]\n",
    "ax.text(a['user']-12.5, a['play_count']-5, a['Artist'], fontsize=9)\n",
    "ax.text(b['user']-12.5, b['play_count']-5, b['Artist'], fontsize=9)\n",
    "ax.text(c['user']+1, c['play_count']+1, c['Artist'], fontsize=9)\n",
    "ax.text(d['user']+1, d['play_count']+8, d['Artist'], fontsize=9)\n",
    "ax.text(e['user']+1, e['play_count']-10, e['Artist'], fontsize=9)\n",
    "ax.set_xlabel('number of users')\n",
    "ax.set_ylabel('times played')\n",
    "ax.set_title('Bottom 5 Rock Artists Statistics (in thousands)')\n",
    "fig;"
   ]
  },
  {
   "cell_type": "markdown",
   "metadata": {},
   "source": [
    "### Among the bottom 5 rock artists,\n",
    "**Radiohead has the `most listeners (85K users)` and the `most number of songs played (395K times)`:**"
   ]
  },
  {
   "cell_type": "code",
   "execution_count": 52,
   "metadata": {
    "ExecuteTime": {
     "end_time": "2019-11-14T07:24:11.567385Z",
     "start_time": "2019-11-14T07:24:11.556717Z"
    }
   },
   "outputs": [
    {
     "data": {
      "text/html": [
       "<div>\n",
       "<style scoped>\n",
       "    .dataframe tbody tr th:only-of-type {\n",
       "        vertical-align: middle;\n",
       "    }\n",
       "\n",
       "    .dataframe tbody tr th {\n",
       "        vertical-align: top;\n",
       "    }\n",
       "\n",
       "    .dataframe thead th {\n",
       "        text-align: right;\n",
       "    }\n",
       "</style>\n",
       "<table border=\"1\" class=\"dataframe\">\n",
       "  <thead>\n",
       "    <tr style=\"text-align: right;\">\n",
       "      <th></th>\n",
       "      <th>artist_id</th>\n",
       "      <th>user</th>\n",
       "      <th>play_count</th>\n",
       "      <th>year_x</th>\n",
       "      <th>year_y</th>\n",
       "      <th>Artist</th>\n",
       "    </tr>\n",
       "  </thead>\n",
       "  <tbody>\n",
       "    <tr>\n",
       "      <td>0</td>\n",
       "      <td>ARH6W4X1187B99274F</td>\n",
       "      <td>85.891</td>\n",
       "      <td>395.793</td>\n",
       "      <td>1992</td>\n",
       "      <td>2009</td>\n",
       "      <td>Radiohead</td>\n",
       "    </tr>\n",
       "  </tbody>\n",
       "</table>\n",
       "</div>"
      ],
      "text/plain": [
       "            artist_id    user  play_count  year_x  year_y     Artist\n",
       "0  ARH6W4X1187B99274F  85.891     395.793    1992    2009  Radiohead"
      ]
     },
     "execution_count": 52,
     "metadata": {},
     "output_type": "execute_result"
    }
   ],
   "source": [
    "df_bottom5_stats.sort_values('user', ascending=False)[:1]"
   ]
  },
  {
   "cell_type": "code",
   "execution_count": 53,
   "metadata": {
    "ExecuteTime": {
     "end_time": "2019-11-14T07:24:11.579730Z",
     "start_time": "2019-11-14T07:24:11.569245Z"
    }
   },
   "outputs": [
    {
     "data": {
      "text/html": [
       "<div>\n",
       "<style scoped>\n",
       "    .dataframe tbody tr th:only-of-type {\n",
       "        vertical-align: middle;\n",
       "    }\n",
       "\n",
       "    .dataframe tbody tr th {\n",
       "        vertical-align: top;\n",
       "    }\n",
       "\n",
       "    .dataframe thead th {\n",
       "        text-align: right;\n",
       "    }\n",
       "</style>\n",
       "<table border=\"1\" class=\"dataframe\">\n",
       "  <thead>\n",
       "    <tr style=\"text-align: right;\">\n",
       "      <th></th>\n",
       "      <th>artist_id</th>\n",
       "      <th>user</th>\n",
       "      <th>play_count</th>\n",
       "      <th>year_x</th>\n",
       "      <th>year_y</th>\n",
       "      <th>Artist</th>\n",
       "    </tr>\n",
       "  </thead>\n",
       "  <tbody>\n",
       "    <tr>\n",
       "      <td>0</td>\n",
       "      <td>ARH6W4X1187B99274F</td>\n",
       "      <td>85.891</td>\n",
       "      <td>395.793</td>\n",
       "      <td>1992</td>\n",
       "      <td>2009</td>\n",
       "      <td>Radiohead</td>\n",
       "    </tr>\n",
       "  </tbody>\n",
       "</table>\n",
       "</div>"
      ],
      "text/plain": [
       "            artist_id    user  play_count  year_x  year_y     Artist\n",
       "0  ARH6W4X1187B99274F  85.891     395.793    1992    2009  Radiohead"
      ]
     },
     "execution_count": 53,
     "metadata": {},
     "output_type": "execute_result"
    }
   ],
   "source": [
    "df_bottom5_stats.sort_values('play_count', ascending=False)[:1]"
   ]
  },
  {
   "cell_type": "markdown",
   "metadata": {},
   "source": [
    "## Multiple Recommender System Algorithms (Surprise)"
   ]
  },
  {
   "cell_type": "code",
   "execution_count": 60,
   "metadata": {
    "ExecuteTime": {
     "end_time": "2019-11-14T07:24:11.732984Z",
     "start_time": "2019-11-14T07:24:11.710416Z"
    }
   },
   "outputs": [
    {
     "data": {
      "text/html": [
       "<div>\n",
       "<style scoped>\n",
       "    .dataframe tbody tr th:only-of-type {\n",
       "        vertical-align: middle;\n",
       "    }\n",
       "\n",
       "    .dataframe tbody tr th {\n",
       "        vertical-align: top;\n",
       "    }\n",
       "\n",
       "    .dataframe thead th {\n",
       "        text-align: right;\n",
       "    }\n",
       "</style>\n",
       "<table border=\"1\" class=\"dataframe\">\n",
       "  <thead>\n",
       "    <tr style=\"text-align: right;\">\n",
       "      <th></th>\n",
       "      <th>user</th>\n",
       "      <th>song_id</th>\n",
       "      <th>play_count</th>\n",
       "      <th>track_id</th>\n",
       "      <th>title</th>\n",
       "      <th>release</th>\n",
       "      <th>artist_id</th>\n",
       "      <th>artist_mbid</th>\n",
       "      <th>artist_name</th>\n",
       "      <th>duration</th>\n",
       "      <th>artist_familiarity</th>\n",
       "      <th>artist_hotttnesss</th>\n",
       "      <th>year</th>\n",
       "      <th>mbtag</th>\n",
       "    </tr>\n",
       "  </thead>\n",
       "  <tbody>\n",
       "    <tr>\n",
       "      <td>0</td>\n",
       "      <td>b80344d063b5ccb3212f76538f3d9e43d87dca9e</td>\n",
       "      <td>SODDNQT12A6D4F5F7E</td>\n",
       "      <td>5</td>\n",
       "      <td>TRPTWGR128F1452734</td>\n",
       "      <td>Apuesta Por El Rock 'N' Roll</td>\n",
       "      <td>Antología Audiovisual</td>\n",
       "      <td>AR3SPD91187B9B63E3</td>\n",
       "      <td>4bb712d6-8be9-4c09-810a-eb3bed2be345</td>\n",
       "      <td>Héroes del Silencio</td>\n",
       "      <td>231.36608</td>\n",
       "      <td>0.672904</td>\n",
       "      <td>0.524063</td>\n",
       "      <td>2007</td>\n",
       "      <td>rock</td>\n",
       "    </tr>\n",
       "  </tbody>\n",
       "</table>\n",
       "</div>"
      ],
      "text/plain": [
       "                                       user             song_id  play_count  \\\n",
       "0  b80344d063b5ccb3212f76538f3d9e43d87dca9e  SODDNQT12A6D4F5F7E           5   \n",
       "\n",
       "             track_id                         title                release  \\\n",
       "0  TRPTWGR128F1452734  Apuesta Por El Rock 'N' Roll  Antología Audiovisual   \n",
       "\n",
       "            artist_id                           artist_mbid  \\\n",
       "0  AR3SPD91187B9B63E3  4bb712d6-8be9-4c09-810a-eb3bed2be345   \n",
       "\n",
       "           artist_name   duration  artist_familiarity  artist_hotttnesss  \\\n",
       "0  Héroes del Silencio  231.36608            0.672904           0.524063   \n",
       "\n",
       "   year mbtag  \n",
       "0  2007  rock  "
      ]
     },
     "execution_count": 60,
     "metadata": {},
     "output_type": "execute_result"
    }
   ],
   "source": [
    "df_rock_songs.head(1)"
   ]
  },
  {
   "cell_type": "code",
   "execution_count": 61,
   "metadata": {
    "ExecuteTime": {
     "end_time": "2019-11-14T07:24:20.782341Z",
     "start_time": "2019-11-14T07:24:11.735019Z"
    }
   },
   "outputs": [],
   "source": [
    "df_main = df_rock_songs[['user', 'artist_id', 'play_count']].groupby(\n",
    "                    ['user', 'artist_id'])['play_count'].sum().reset_index()"
   ]
  },
  {
   "cell_type": "markdown",
   "metadata": {},
   "source": [
    "### Sample only 10K"
   ]
  },
  {
   "cell_type": "code",
   "execution_count": 84,
   "metadata": {
    "ExecuteTime": {
     "end_time": "2019-11-14T10:39:29.469313Z",
     "start_time": "2019-11-14T10:39:29.236959Z"
    }
   },
   "outputs": [],
   "source": [
    "df_main_10K = df_main.sample(n=10000)"
   ]
  },
  {
   "cell_type": "code",
   "execution_count": 85,
   "metadata": {
    "ExecuteTime": {
     "end_time": "2019-11-14T10:39:30.029905Z",
     "start_time": "2019-11-14T10:39:30.016016Z"
    }
   },
   "outputs": [
    {
     "data": {
      "text/plain": [
       "(10000, 3)"
      ]
     },
     "execution_count": 85,
     "metadata": {},
     "output_type": "execute_result"
    }
   ],
   "source": [
    "df_main_10K.shape"
   ]
  },
  {
   "cell_type": "markdown",
   "metadata": {},
   "source": [
    "### Scale play_count to 1, 2, 3 (based on the original data, not on the sample)"
   ]
  },
  {
   "cell_type": "code",
   "execution_count": 86,
   "metadata": {
    "ExecuteTime": {
     "end_time": "2019-11-14T10:39:33.573752Z",
     "start_time": "2019-11-14T10:39:33.297046Z"
    }
   },
   "outputs": [],
   "source": [
    "x1 = df_main['play_count'].quantile(0)\n",
    "x2 = df_main['play_count'].quantile(0.25)\n",
    "x3 = df_main['play_count'].quantile(0.5)\n",
    "x4 = df_main['play_count'].quantile(0.75)"
   ]
  },
  {
   "cell_type": "code",
   "execution_count": 87,
   "metadata": {
    "ExecuteTime": {
     "end_time": "2019-11-14T10:39:56.560542Z",
     "start_time": "2019-11-14T10:39:56.552260Z"
    }
   },
   "outputs": [],
   "source": [
    "def convert_quantile(x):\n",
    "    if x >= x4:\n",
    "        x = 4\n",
    "    elif x >= x3:\n",
    "        x = 3\n",
    "    elif x >= x2:\n",
    "        x = 2\n",
    "    elif x >= x1:\n",
    "        x = 1\n",
    "    return x"
   ]
  },
  {
   "cell_type": "code",
   "execution_count": 88,
   "metadata": {
    "ExecuteTime": {
     "end_time": "2019-11-14T10:39:58.107978Z",
     "start_time": "2019-11-14T10:39:58.076911Z"
    }
   },
   "outputs": [],
   "source": [
    "df_main_10K['play_count'] = df_main_10K['play_count'].apply(convert_quantile)"
   ]
  },
  {
   "cell_type": "code",
   "execution_count": 89,
   "metadata": {
    "ExecuteTime": {
     "end_time": "2019-11-14T10:40:00.149156Z",
     "start_time": "2019-11-14T10:40:00.129155Z"
    }
   },
   "outputs": [
    {
     "data": {
      "text/html": [
       "<div>\n",
       "<style scoped>\n",
       "    .dataframe tbody tr th:only-of-type {\n",
       "        vertical-align: middle;\n",
       "    }\n",
       "\n",
       "    .dataframe tbody tr th {\n",
       "        vertical-align: top;\n",
       "    }\n",
       "\n",
       "    .dataframe thead th {\n",
       "        text-align: right;\n",
       "    }\n",
       "</style>\n",
       "<table border=\"1\" class=\"dataframe\">\n",
       "  <thead>\n",
       "    <tr style=\"text-align: right;\">\n",
       "      <th></th>\n",
       "      <th>user</th>\n",
       "      <th>artist_id</th>\n",
       "      <th>play_count</th>\n",
       "    </tr>\n",
       "  </thead>\n",
       "  <tbody>\n",
       "    <tr>\n",
       "      <td>4365313</td>\n",
       "      <td>fecfbb20449126bd3dcc7d1079ac6865a3648575</td>\n",
       "      <td>ARE8GLF1187FB52532</td>\n",
       "      <td>4</td>\n",
       "    </tr>\n",
       "  </tbody>\n",
       "</table>\n",
       "</div>"
      ],
      "text/plain": [
       "                                             user           artist_id  \\\n",
       "4365313  fecfbb20449126bd3dcc7d1079ac6865a3648575  ARE8GLF1187FB52532   \n",
       "\n",
       "         play_count  \n",
       "4365313           4  "
      ]
     },
     "execution_count": 89,
     "metadata": {},
     "output_type": "execute_result"
    }
   ],
   "source": [
    "df_main_10K.head(1)"
   ]
  },
  {
   "cell_type": "markdown",
   "metadata": {},
   "source": [
    "### Multiple RS modelling"
   ]
  },
  {
   "cell_type": "code",
   "execution_count": 90,
   "metadata": {
    "ExecuteTime": {
     "end_time": "2019-11-14T10:40:24.332841Z",
     "start_time": "2019-11-14T10:40:05.420637Z"
    }
   },
   "outputs": [
    {
     "name": "stdout",
     "output_type": "stream",
     "text": [
      "Estimating biases using als...\n",
      "Computing the msd similarity matrix...\n",
      "Done computing similarity matrix.\n",
      "Estimating biases using als...\n",
      "Computing the msd similarity matrix...\n",
      "Done computing similarity matrix.\n",
      "Estimating biases using als...\n",
      "Computing the msd similarity matrix...\n",
      "Done computing similarity matrix.\n",
      "Computing the msd similarity matrix...\n",
      "Done computing similarity matrix.\n",
      "Computing the msd similarity matrix...\n",
      "Done computing similarity matrix.\n",
      "Computing the msd similarity matrix...\n",
      "Done computing similarity matrix.\n",
      "Estimating biases using als...\n",
      "Estimating biases using als...\n",
      "Estimating biases using als...\n"
     ]
    }
   ],
   "source": [
    "reader = Reader(rating_scale=(1, 3))\n",
    "\n",
    "data = Dataset.load_from_df(df_main_10K, reader)\n",
    "\n",
    "benchmark = []\n",
    "\n",
    "for algorithm in [SVD(), SVDpp(), SlopeOne(), NMF(), NormalPredictor(), \n",
    "                  KNNBaseline(), KNNBasic(), BaselineOnly(), CoClustering()]:\n",
    "\n",
    "    results = cross_validate(algorithm, data, measures=['RMSE'], cv=3, \n",
    "                             verbose=False)\n",
    "    \n",
    "    tmp = pd.DataFrame.from_dict(results).mean(axis=0)\n",
    "    tmp = tmp.append(pd.Series([str(algorithm).split(' ')[0].split('.')[-1]], \n",
    "                               index=['Algorithm']))\n",
    "    benchmark.append(tmp)\n",
    "    \n",
    "df_rs = pd.DataFrame(benchmark).set_index('Algorithm'\n",
    "                                         ).sort_values('test_rmse')   "
   ]
  },
  {
   "cell_type": "code",
   "execution_count": 91,
   "metadata": {
    "ExecuteTime": {
     "end_time": "2019-11-14T10:40:24.343148Z",
     "start_time": "2019-11-14T10:40:24.335064Z"
    }
   },
   "outputs": [
    {
     "data": {
      "text/html": [
       "<div>\n",
       "<style scoped>\n",
       "    .dataframe tbody tr th:only-of-type {\n",
       "        vertical-align: middle;\n",
       "    }\n",
       "\n",
       "    .dataframe tbody tr th {\n",
       "        vertical-align: top;\n",
       "    }\n",
       "\n",
       "    .dataframe thead th {\n",
       "        text-align: right;\n",
       "    }\n",
       "</style>\n",
       "<table border=\"1\" class=\"dataframe\">\n",
       "  <thead>\n",
       "    <tr style=\"text-align: right;\">\n",
       "      <th></th>\n",
       "      <th>test_rmse</th>\n",
       "      <th>fit_time</th>\n",
       "      <th>test_time</th>\n",
       "    </tr>\n",
       "    <tr>\n",
       "      <th>Algorithm</th>\n",
       "      <th></th>\n",
       "      <th></th>\n",
       "      <th></th>\n",
       "    </tr>\n",
       "  </thead>\n",
       "  <tbody>\n",
       "    <tr>\n",
       "      <td>KNNBaseline</td>\n",
       "      <td>0.835507</td>\n",
       "      <td>1.326037</td>\n",
       "      <td>0.026733</td>\n",
       "    </tr>\n",
       "    <tr>\n",
       "      <td>SVD</td>\n",
       "      <td>0.837182</td>\n",
       "      <td>0.402972</td>\n",
       "      <td>0.024434</td>\n",
       "    </tr>\n",
       "    <tr>\n",
       "      <td>SVDpp</td>\n",
       "      <td>0.837681</td>\n",
       "      <td>0.726477</td>\n",
       "      <td>0.023211</td>\n",
       "    </tr>\n",
       "    <tr>\n",
       "      <td>KNNBasic</td>\n",
       "      <td>0.837838</td>\n",
       "      <td>1.285279</td>\n",
       "      <td>0.025311</td>\n",
       "    </tr>\n",
       "    <tr>\n",
       "      <td>BaselineOnly</td>\n",
       "      <td>0.838700</td>\n",
       "      <td>0.026057</td>\n",
       "      <td>0.020633</td>\n",
       "    </tr>\n",
       "    <tr>\n",
       "      <td>SlopeOne</td>\n",
       "      <td>0.839309</td>\n",
       "      <td>0.089370</td>\n",
       "      <td>0.021998</td>\n",
       "    </tr>\n",
       "    <tr>\n",
       "      <td>CoClustering</td>\n",
       "      <td>0.839323</td>\n",
       "      <td>0.671220</td>\n",
       "      <td>0.017693</td>\n",
       "    </tr>\n",
       "    <tr>\n",
       "      <td>NMF</td>\n",
       "      <td>0.840956</td>\n",
       "      <td>0.834073</td>\n",
       "      <td>0.022721</td>\n",
       "    </tr>\n",
       "    <tr>\n",
       "      <td>NormalPredictor</td>\n",
       "      <td>1.022942</td>\n",
       "      <td>0.009129</td>\n",
       "      <td>0.023276</td>\n",
       "    </tr>\n",
       "  </tbody>\n",
       "</table>\n",
       "</div>"
      ],
      "text/plain": [
       "                 test_rmse  fit_time  test_time\n",
       "Algorithm                                      \n",
       "KNNBaseline       0.835507  1.326037   0.026733\n",
       "SVD               0.837182  0.402972   0.024434\n",
       "SVDpp             0.837681  0.726477   0.023211\n",
       "KNNBasic          0.837838  1.285279   0.025311\n",
       "BaselineOnly      0.838700  0.026057   0.020633\n",
       "SlopeOne          0.839309  0.089370   0.021998\n",
       "CoClustering      0.839323  0.671220   0.017693\n",
       "NMF               0.840956  0.834073   0.022721\n",
       "NormalPredictor   1.022942  0.009129   0.023276"
      ]
     },
     "execution_count": 91,
     "metadata": {},
     "output_type": "execute_result"
    }
   ],
   "source": [
    "df_rs"
   ]
  },
  {
   "cell_type": "code",
   "execution_count": 96,
   "metadata": {
    "ExecuteTime": {
     "end_time": "2019-11-14T11:00:07.775870Z",
     "start_time": "2019-11-14T11:00:07.765183Z"
    }
   },
   "outputs": [],
   "source": [
    "df_rs_plot = df_rs[['test_rmse']].reset_index()"
   ]
  },
  {
   "cell_type": "code",
   "execution_count": 98,
   "metadata": {
    "ExecuteTime": {
     "end_time": "2019-11-14T11:00:23.861559Z",
     "start_time": "2019-11-14T11:00:23.846980Z"
    }
   },
   "outputs": [
    {
     "data": {
      "text/html": [
       "<div>\n",
       "<style scoped>\n",
       "    .dataframe tbody tr th:only-of-type {\n",
       "        vertical-align: middle;\n",
       "    }\n",
       "\n",
       "    .dataframe tbody tr th {\n",
       "        vertical-align: top;\n",
       "    }\n",
       "\n",
       "    .dataframe thead th {\n",
       "        text-align: right;\n",
       "    }\n",
       "</style>\n",
       "<table border=\"1\" class=\"dataframe\">\n",
       "  <thead>\n",
       "    <tr style=\"text-align: right;\">\n",
       "      <th></th>\n",
       "      <th>Algorithm</th>\n",
       "      <th>test_rmse</th>\n",
       "    </tr>\n",
       "  </thead>\n",
       "  <tbody>\n",
       "    <tr>\n",
       "      <td>0</td>\n",
       "      <td>KNNBaseline</td>\n",
       "      <td>0.835507</td>\n",
       "    </tr>\n",
       "    <tr>\n",
       "      <td>1</td>\n",
       "      <td>SVD</td>\n",
       "      <td>0.837182</td>\n",
       "    </tr>\n",
       "    <tr>\n",
       "      <td>2</td>\n",
       "      <td>SVDpp</td>\n",
       "      <td>0.837681</td>\n",
       "    </tr>\n",
       "    <tr>\n",
       "      <td>3</td>\n",
       "      <td>KNNBasic</td>\n",
       "      <td>0.837838</td>\n",
       "    </tr>\n",
       "    <tr>\n",
       "      <td>4</td>\n",
       "      <td>BaselineOnly</td>\n",
       "      <td>0.838700</td>\n",
       "    </tr>\n",
       "    <tr>\n",
       "      <td>5</td>\n",
       "      <td>SlopeOne</td>\n",
       "      <td>0.839309</td>\n",
       "    </tr>\n",
       "    <tr>\n",
       "      <td>6</td>\n",
       "      <td>CoClustering</td>\n",
       "      <td>0.839323</td>\n",
       "    </tr>\n",
       "    <tr>\n",
       "      <td>7</td>\n",
       "      <td>NMF</td>\n",
       "      <td>0.840956</td>\n",
       "    </tr>\n",
       "    <tr>\n",
       "      <td>8</td>\n",
       "      <td>NormalPredictor</td>\n",
       "      <td>1.022942</td>\n",
       "    </tr>\n",
       "  </tbody>\n",
       "</table>\n",
       "</div>"
      ],
      "text/plain": [
       "         Algorithm  test_rmse\n",
       "0      KNNBaseline   0.835507\n",
       "1              SVD   0.837182\n",
       "2            SVDpp   0.837681\n",
       "3         KNNBasic   0.837838\n",
       "4     BaselineOnly   0.838700\n",
       "5         SlopeOne   0.839309\n",
       "6     CoClustering   0.839323\n",
       "7              NMF   0.840956\n",
       "8  NormalPredictor   1.022942"
      ]
     },
     "execution_count": 98,
     "metadata": {},
     "output_type": "execute_result"
    }
   ],
   "source": [
    "df_rs_plot"
   ]
  },
  {
   "cell_type": "code",
   "execution_count": 107,
   "metadata": {
    "ExecuteTime": {
     "end_time": "2019-11-14T11:05:12.952916Z",
     "start_time": "2019-11-14T11:05:12.701255Z"
    }
   },
   "outputs": [
    {
     "data": {
      "image/png": "[encoded data removed]",
      "text/plain": [
       "<Figure size 900x600 with 1 Axes>"
      ]
     },
     "metadata": {
      "needs_background": "light"
     },
     "output_type": "display_data"
    }
   ],
   "source": [
    "fig, ax = plt.subplots(dpi=150)\n",
    "ax = sns.barplot(x=df_rs_plot.test_rmse, y=df_rs_plot.Algorithm,  \n",
    "                 palette='Greens_d')\n",
    "ax.set_xlabel('RMSE')\n",
    "ax.set_ylabel('')\n",
    "ax.set_title('RMSE of Different Algorithms in SURPRISE')\n",
    "fig;"
   ]
  },
  {
   "cell_type": "markdown",
   "metadata": {},
   "source": [
    "### Prediction from the best RS algorithm - BaselineOnly (lowest RMSE)"
   ]
  },
  {
   "cell_type": "code",
   "execution_count": 92,
   "metadata": {
    "ExecuteTime": {
     "end_time": "2019-11-14T10:52:16.898458Z",
     "start_time": "2019-11-14T10:52:15.166926Z"
    }
   },
   "outputs": [
    {
     "name": "stdout",
     "output_type": "stream",
     "text": [
      "Estimating biases using als...\n",
      "Computing the msd similarity matrix...\n",
      "Done computing similarity matrix.\n"
     ]
    }
   ],
   "source": [
    "trainset, testset = train_test_split(data, test_size=0.25)\n",
    "\n",
    "best_rs = KNNBaseline()\n",
    "\n",
    "predictions = best_rs.fit(trainset).test(testset)"
   ]
  },
  {
   "cell_type": "code",
   "execution_count": 120,
   "metadata": {
    "ExecuteTime": {
     "end_time": "2019-11-14T11:40:57.841124Z",
     "start_time": "2019-11-14T11:40:57.828257Z"
    }
   },
   "outputs": [],
   "source": [
    "df_pred = pd.DataFrame(predictions).sort_values('est', ascending=False)"
   ]
  },
  {
   "cell_type": "code",
   "execution_count": 125,
   "metadata": {
    "ExecuteTime": {
     "end_time": "2019-11-14T11:42:49.183480Z",
     "start_time": "2019-11-14T11:42:49.173148Z"
    }
   },
   "outputs": [],
   "source": [
    "df_pred = df_pred[['uid', 'iid', 'est']]\n",
    "df_pred.columns = ['user', 'artist_id', 'pred_play_count']"
   ]
  },
  {
   "cell_type": "code",
   "execution_count": 127,
   "metadata": {
    "ExecuteTime": {
     "end_time": "2019-11-14T11:43:00.882966Z",
     "start_time": "2019-11-14T11:43:00.866606Z"
    }
   },
   "outputs": [],
   "source": [
    "df_pred_name = df_pred.merge(df_artist_names)"
   ]
  },
  {
   "cell_type": "code",
   "execution_count": 137,
   "metadata": {
    "ExecuteTime": {
     "end_time": "2019-11-14T11:44:58.516283Z",
     "start_time": "2019-11-14T11:44:58.497520Z"
    }
   },
   "outputs": [
    {
     "data": {
      "text/html": [
       "<div>\n",
       "<style scoped>\n",
       "    .dataframe tbody tr th:only-of-type {\n",
       "        vertical-align: middle;\n",
       "    }\n",
       "\n",
       "    .dataframe tbody tr th {\n",
       "        vertical-align: top;\n",
       "    }\n",
       "\n",
       "    .dataframe thead th {\n",
       "        text-align: right;\n",
       "    }\n",
       "</style>\n",
       "<table border=\"1\" class=\"dataframe\">\n",
       "  <thead>\n",
       "    <tr style=\"text-align: right;\">\n",
       "      <th></th>\n",
       "      <th>user</th>\n",
       "      <th>artist_id</th>\n",
       "      <th>pred_play_count</th>\n",
       "      <th>artist_name</th>\n",
       "    </tr>\n",
       "  </thead>\n",
       "  <tbody>\n",
       "    <tr>\n",
       "      <td>0</td>\n",
       "      <td>86cb0d540760b9c11f7f2b30008dbb207edbada2</td>\n",
       "      <td>AR76NY61187FB4F82F</td>\n",
       "      <td>3.0</td>\n",
       "      <td>Ben Folds</td>\n",
       "    </tr>\n",
       "    <tr>\n",
       "      <td>1</td>\n",
       "      <td>3d0900d83e4d85319f0c40c22782b630efc7628d</td>\n",
       "      <td>AR76NY61187FB4F82F</td>\n",
       "      <td>3.0</td>\n",
       "      <td>Ben Folds</td>\n",
       "    </tr>\n",
       "  </tbody>\n",
       "</table>\n",
       "</div>"
      ],
      "text/plain": [
       "                                       user           artist_id  \\\n",
       "0  86cb0d540760b9c11f7f2b30008dbb207edbada2  AR76NY61187FB4F82F   \n",
       "1  3d0900d83e4d85319f0c40c22782b630efc7628d  AR76NY61187FB4F82F   \n",
       "\n",
       "   pred_play_count artist_name  \n",
       "0              3.0   Ben Folds  \n",
       "1              3.0   Ben Folds  "
      ]
     },
     "execution_count": 137,
     "metadata": {},
     "output_type": "execute_result"
    }
   ],
   "source": [
    "df_pred_name.head(2)"
   ]
  },
  {
   "cell_type": "code",
   "execution_count": 142,
   "metadata": {
    "ExecuteTime": {
     "end_time": "2019-11-14T11:46:26.178162Z",
     "start_time": "2019-11-14T11:46:26.148756Z"
    }
   },
   "outputs": [
    {
     "data": {
      "text/html": [
       "<div>\n",
       "<style scoped>\n",
       "    .dataframe tbody tr th:only-of-type {\n",
       "        vertical-align: middle;\n",
       "    }\n",
       "\n",
       "    .dataframe tbody tr th {\n",
       "        vertical-align: top;\n",
       "    }\n",
       "\n",
       "    .dataframe thead th {\n",
       "        text-align: right;\n",
       "    }\n",
       "</style>\n",
       "<table border=\"1\" class=\"dataframe\">\n",
       "  <thead>\n",
       "    <tr style=\"text-align: right;\">\n",
       "      <th></th>\n",
       "      <th>artist_name</th>\n",
       "      <th>pred_play_count</th>\n",
       "    </tr>\n",
       "  </thead>\n",
       "  <tbody>\n",
       "    <tr>\n",
       "      <td>0</td>\n",
       "      <td>3 Doors Down</td>\n",
       "      <td>36.920529</td>\n",
       "    </tr>\n",
       "    <tr>\n",
       "      <td>1</td>\n",
       "      <td>A Day To Remember</td>\n",
       "      <td>24.225652</td>\n",
       "    </tr>\n",
       "    <tr>\n",
       "      <td>2</td>\n",
       "      <td>311</td>\n",
       "      <td>8.583396</td>\n",
       "    </tr>\n",
       "    <tr>\n",
       "      <td>3</td>\n",
       "      <td>1990s</td>\n",
       "      <td>5.844286</td>\n",
       "    </tr>\n",
       "    <tr>\n",
       "      <td>4</td>\n",
       "      <td>36 Crazyfists</td>\n",
       "      <td>5.750857</td>\n",
       "    </tr>\n",
       "    <tr>\n",
       "      <td>5</td>\n",
       "      <td>...And You Will Know Us By The Trail Of Dead</td>\n",
       "      <td>5.540000</td>\n",
       "    </tr>\n",
       "    <tr>\n",
       "      <td>6</td>\n",
       "      <td>4 Non Blondes</td>\n",
       "      <td>5.276851</td>\n",
       "    </tr>\n",
       "    <tr>\n",
       "      <td>7</td>\n",
       "      <td>38 Special</td>\n",
       "      <td>3.000000</td>\n",
       "    </tr>\n",
       "    <tr>\n",
       "      <td>8</td>\n",
       "      <td>10_000 Maniacs</td>\n",
       "      <td>2.770000</td>\n",
       "    </tr>\n",
       "    <tr>\n",
       "      <td>9</td>\n",
       "      <td>65daysofstatic</td>\n",
       "      <td>2.648421</td>\n",
       "    </tr>\n",
       "  </tbody>\n",
       "</table>\n",
       "</div>"
      ],
      "text/plain": [
       "                                    artist_name  pred_play_count\n",
       "0                                  3 Doors Down        36.920529\n",
       "1                             A Day To Remember        24.225652\n",
       "2                                           311         8.583396\n",
       "3                                         1990s         5.844286\n",
       "4                                 36 Crazyfists         5.750857\n",
       "5  ...And You Will Know Us By The Trail Of Dead         5.540000\n",
       "6                                 4 Non Blondes         5.276851\n",
       "7                                    38 Special         3.000000\n",
       "8                                10_000 Maniacs         2.770000\n",
       "9                                65daysofstatic         2.648421"
      ]
     },
     "execution_count": 142,
     "metadata": {},
     "output_type": "execute_result"
    }
   ],
   "source": [
    "df_pred_name.groupby('artist_name')['pred_play_count'].sum().head(10\n",
    "            ).reset_index().sort_values('pred_play_count', ascending=False\n",
    "                                       ).reset_index(drop=True)"
   ]
  },
  {
   "cell_type": "code",
   "execution_count": null,
   "metadata": {},
   "outputs": [],
   "source": []
  },
  {
   "cell_type": "code",
   "execution_count": null,
   "metadata": {},
   "outputs": [],
   "source": []
  }
 ],
 "metadata": {
  "kernelspec": {
   "display_name": "Python 3",
   "language": "python",
   "name": "python3"
  },
  "language_info": {
   "codemirror_mode": {
    "name": "ipython",
    "version": 3
   },
   "file_extension": ".py",
   "mimetype": "text/x-python",
   "name": "python",
   "nbconvert_exporter": "python",
   "pygments_lexer": "ipython3",
   "version": "3.7.3"
  }
 },
 "nbformat": 4,
 "nbformat_minor": 2
}
